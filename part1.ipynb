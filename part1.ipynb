{
 "cells": [
  {
   "cell_type": "code",
   "execution_count": 9,
   "id": "ef78f63f-9565-477c-96f0-7e6833736688",
   "metadata": {
    "execution": {
     "iopub.execute_input": "2022-02-19T13:56:18.785551Z",
     "iopub.status.busy": "2022-02-19T13:56:18.785177Z",
     "iopub.status.idle": "2022-02-19T13:56:18.789423Z",
     "shell.execute_reply": "2022-02-19T13:56:18.788754Z",
     "shell.execute_reply.started": "2022-02-19T13:56:18.785522Z"
    },
    "tags": []
   },
   "outputs": [],
   "source": [
    "from pyspark.sql import SparkSession\n",
    "import pyspark.sql.functions as F\n",
    "\n",
    "spark = SparkSession.builder.getOrCreate()"
   ]
  },
  {
   "cell_type": "code",
   "execution_count": 6,
   "id": "477796af-27ea-42b7-8a7b-6d2ee93e3811",
   "metadata": {
    "execution": {
     "iopub.execute_input": "2022-02-19T13:49:30.685103Z",
     "iopub.status.busy": "2022-02-19T13:49:30.684566Z",
     "iopub.status.idle": "2022-02-19T13:49:30.935205Z",
     "shell.execute_reply": "2022-02-19T13:49:30.934735Z",
     "shell.execute_reply.started": "2022-02-19T13:49:30.685039Z"
    }
   },
   "outputs": [
    {
     "name": "stdout",
     "output_type": "stream",
     "text": [
      "+-------+--------------------------------------------------+----------+-----+-------+\n",
      "|stockNo|stockName                                         |date      |price|volume |\n",
      "+-------+--------------------------------------------------+----------+-----+-------+\n",
      "|32843  |Nordamerika_USA-NASDAQ_CRA-International-Inc._CRAI|2016-01-01|18.98|50635.0|\n",
      "|32843  |Nordamerika_USA-NASDAQ_CRA-International-Inc._CRAI|2016-01-04|18.52|51616.0|\n",
      "|32843  |Nordamerika_USA-NASDAQ_CRA-International-Inc._CRAI|2016-01-05|19.15|54898.0|\n",
      "|32843  |Nordamerika_USA-NASDAQ_CRA-International-Inc._CRAI|2016-01-06|19.71|41555.0|\n",
      "|32843  |Nordamerika_USA-NASDAQ_CRA-International-Inc._CRAI|2016-01-07|19.17|44430.0|\n",
      "|32843  |Nordamerika_USA-NASDAQ_CRA-International-Inc._CRAI|2016-01-08|18.94|72673.0|\n",
      "|32843  |Nordamerika_USA-NASDAQ_CRA-International-Inc._CRAI|2016-01-11|19.1 |45426.0|\n",
      "|32843  |Nordamerika_USA-NASDAQ_CRA-International-Inc._CRAI|2016-01-12|19.39|61457.0|\n",
      "|32843  |Nordamerika_USA-NASDAQ_CRA-International-Inc._CRAI|2016-01-13|19.27|61805.0|\n",
      "|32843  |Nordamerika_USA-NASDAQ_CRA-International-Inc._CRAI|2016-01-14|19.17|35597.0|\n",
      "|32843  |Nordamerika_USA-NASDAQ_CRA-International-Inc._CRAI|2016-01-15|18.81|69227.0|\n",
      "|32843  |Nordamerika_USA-NASDAQ_CRA-International-Inc._CRAI|2016-01-18|18.81|69227.0|\n",
      "|32843  |Nordamerika_USA-NASDAQ_CRA-International-Inc._CRAI|2016-01-19|18.82|23700.0|\n",
      "|32843  |Nordamerika_USA-NASDAQ_CRA-International-Inc._CRAI|2016-01-20|17.97|41439.0|\n",
      "|32843  |Nordamerika_USA-NASDAQ_CRA-International-Inc._CRAI|2016-01-21|17.82|35240.0|\n",
      "|32843  |Nordamerika_USA-NASDAQ_CRA-International-Inc._CRAI|2016-01-22|18.62|79139.0|\n",
      "|32843  |Nordamerika_USA-NASDAQ_CRA-International-Inc._CRAI|2016-01-25|18.09|89251.0|\n",
      "|32843  |Nordamerika_USA-NASDAQ_CRA-International-Inc._CRAI|2016-01-26|17.62|75300.0|\n",
      "|32843  |Nordamerika_USA-NASDAQ_CRA-International-Inc._CRAI|2016-01-27|17.58|43142.0|\n",
      "|32843  |Nordamerika_USA-NASDAQ_CRA-International-Inc._CRAI|2016-01-28|17.7 |20499.0|\n",
      "+-------+--------------------------------------------------+----------+-----+-------+\n",
      "only showing top 20 rows\n",
      "\n"
     ]
    }
   ],
   "source": [
    "from pyspark.sql.types import StructType, StructField, StringType, DateType, DoubleType, IntegerType\n",
    "from pyspark.sql.functions import split\n",
    "\n",
    "schema = StructType([\n",
    "    StructField(\"stock\", StringType()),\n",
    "    StructField(\"date\", DateType()),\n",
    "    StructField(\"price\", DoubleType()),\n",
    "    StructField(\"volume\", DoubleType())\n",
    "])\n",
    "\n",
    "df = spark.read.csv(\"data/raw/MS1.txt\", schema=schema, dateFormat=\"MM/dd/yyyy\")\n",
    "\n",
    "split_col = split(df[\"stock\"], \"\\.\", 2)\n",
    "\n",
    "df = df.withColumn(\"stockNo\", split_col.getItem(0).cast(IntegerType())).withColumn(\"stockName\", split_col.getItem(1)).select(\"stockNo\", \"stockName\", \"date\", \"price\", \"volume\")\n",
    "\n",
    "df.show(truncate=False)"
   ]
  },
  {
   "cell_type": "code",
   "execution_count": 7,
   "id": "50646171-242b-4091-93ba-bcd8f44833be",
   "metadata": {
    "execution": {
     "iopub.execute_input": "2022-02-19T13:54:57.686222Z",
     "iopub.status.busy": "2022-02-19T13:54:57.685928Z",
     "iopub.status.idle": "2022-02-19T13:55:14.204010Z",
     "shell.execute_reply": "2022-02-19T13:55:14.203420Z",
     "shell.execute_reply.started": "2022-02-19T13:54:57.686192Z"
    }
   },
   "outputs": [
    {
     "data": {
      "text/plain": [
       "38374198"
      ]
     },
     "execution_count": 7,
     "metadata": {},
     "output_type": "execute_result"
    }
   ],
   "source": [
    "df.count()"
   ]
  },
  {
   "cell_type": "code",
   "execution_count": 10,
   "id": "ea558dcf-40b4-4c25-bc6f-188895d868cb",
   "metadata": {
    "execution": {
     "iopub.execute_input": "2022-02-19T13:56:46.243445Z",
     "iopub.status.busy": "2022-02-19T13:56:46.242889Z",
     "iopub.status.idle": "2022-02-19T13:57:19.468852Z",
     "shell.execute_reply": "2022-02-19T13:57:19.468340Z",
     "shell.execute_reply.started": "2022-02-19T13:56:46.243411Z"
    },
    "tags": []
   },
   "outputs": [
    {
     "name": "stdout",
     "output_type": "stream",
     "text": [
      "+-------+---------+----+-----+------+\n",
      "|stockNo|stockName|date|price|volume|\n",
      "+-------+---------+----+-----+------+\n",
      "|      0|        0|   0|    0|    25|\n",
      "+-------+---------+----+-----+------+\n",
      "\n"
     ]
    }
   ],
   "source": [
    "#count null for each col\n",
    "df_agg = df.agg(*[F.count(F.when(F.isnull(c), c)).alias(c) for c in df.columns])\n",
    "df_agg.show()"
   ]
  },
  {
   "cell_type": "code",
   "execution_count": 11,
   "id": "51e7ca36-8898-4f68-ba48-7931300e8153",
   "metadata": {
    "execution": {
     "iopub.execute_input": "2022-02-19T14:00:12.349755Z",
     "iopub.status.busy": "2022-02-19T14:00:12.349033Z",
     "iopub.status.idle": "2022-02-19T14:00:12.500342Z",
     "shell.execute_reply": "2022-02-19T14:00:12.499746Z",
     "shell.execute_reply.started": "2022-02-19T14:00:12.349726Z"
    }
   },
   "outputs": [
    {
     "name": "stdout",
     "output_type": "stream",
     "text": [
      "+-------+--------------------------------------------------+----------+-----+-------+\n",
      "|stockNo|stockName                                         |date      |price|volume |\n",
      "+-------+--------------------------------------------------+----------+-----+-------+\n",
      "|32843  |Nordamerika_USA-NASDAQ_CRA-International-Inc._CRAI|2016-01-01|18.98|50635.0|\n",
      "|32843  |Nordamerika_USA-NASDAQ_CRA-International-Inc._CRAI|2016-01-04|18.52|51616.0|\n",
      "|32843  |Nordamerika_USA-NASDAQ_CRA-International-Inc._CRAI|2016-01-05|19.15|54898.0|\n",
      "|32843  |Nordamerika_USA-NASDAQ_CRA-International-Inc._CRAI|2016-01-06|19.71|41555.0|\n",
      "|32843  |Nordamerika_USA-NASDAQ_CRA-International-Inc._CRAI|2016-01-07|19.17|44430.0|\n",
      "|32843  |Nordamerika_USA-NASDAQ_CRA-International-Inc._CRAI|2016-01-08|18.94|72673.0|\n",
      "|32843  |Nordamerika_USA-NASDAQ_CRA-International-Inc._CRAI|2016-01-11|19.1 |45426.0|\n",
      "|32843  |Nordamerika_USA-NASDAQ_CRA-International-Inc._CRAI|2016-01-12|19.39|61457.0|\n",
      "|32843  |Nordamerika_USA-NASDAQ_CRA-International-Inc._CRAI|2016-01-13|19.27|61805.0|\n",
      "|32843  |Nordamerika_USA-NASDAQ_CRA-International-Inc._CRAI|2016-01-14|19.17|35597.0|\n",
      "|32843  |Nordamerika_USA-NASDAQ_CRA-International-Inc._CRAI|2016-01-15|18.81|69227.0|\n",
      "|32843  |Nordamerika_USA-NASDAQ_CRA-International-Inc._CRAI|2016-01-18|18.81|69227.0|\n",
      "|32843  |Nordamerika_USA-NASDAQ_CRA-International-Inc._CRAI|2016-01-19|18.82|23700.0|\n",
      "|32843  |Nordamerika_USA-NASDAQ_CRA-International-Inc._CRAI|2016-01-20|17.97|41439.0|\n",
      "|32843  |Nordamerika_USA-NASDAQ_CRA-International-Inc._CRAI|2016-01-21|17.82|35240.0|\n",
      "|32843  |Nordamerika_USA-NASDAQ_CRA-International-Inc._CRAI|2016-01-22|18.62|79139.0|\n",
      "|32843  |Nordamerika_USA-NASDAQ_CRA-International-Inc._CRAI|2016-01-25|18.09|89251.0|\n",
      "|32843  |Nordamerika_USA-NASDAQ_CRA-International-Inc._CRAI|2016-01-26|17.62|75300.0|\n",
      "|32843  |Nordamerika_USA-NASDAQ_CRA-International-Inc._CRAI|2016-01-27|17.58|43142.0|\n",
      "|32843  |Nordamerika_USA-NASDAQ_CRA-International-Inc._CRAI|2016-01-28|17.7 |20499.0|\n",
      "+-------+--------------------------------------------------+----------+-----+-------+\n",
      "only showing top 20 rows\n",
      "\n"
     ]
    }
   ],
   "source": [
    "df_pre = df.dropna()\n",
    "df_pre.show(truncate=False)"
   ]
  },
  {
   "cell_type": "code",
   "execution_count": 12,
   "id": "d162eb8d-22cc-4ef0-b49c-f548cdecd177",
   "metadata": {
    "execution": {
     "iopub.execute_input": "2022-02-19T14:00:33.931446Z",
     "iopub.status.busy": "2022-02-19T14:00:33.931012Z",
     "iopub.status.idle": "2022-02-19T14:01:13.349730Z",
     "shell.execute_reply": "2022-02-19T14:01:13.349089Z",
     "shell.execute_reply.started": "2022-02-19T14:00:33.931401Z"
    }
   },
   "outputs": [
    {
     "data": {
      "text/plain": [
       "38374173"
      ]
     },
     "execution_count": 12,
     "metadata": {},
     "output_type": "execute_result"
    }
   ],
   "source": [
    "df_pre.count()"
   ]
  },
  {
   "cell_type": "code",
   "execution_count": 16,
   "id": "c1a41247-6515-42e7-bcb1-90ad85db2855",
   "metadata": {
    "execution": {
     "iopub.execute_input": "2022-02-19T14:02:32.025995Z",
     "iopub.status.busy": "2022-02-19T14:02:32.025033Z",
     "iopub.status.idle": "2022-02-19T14:02:32.030462Z",
     "shell.execute_reply": "2022-02-19T14:02:32.029704Z",
     "shell.execute_reply.started": "2022-02-19T14:02:32.025953Z"
    },
    "tags": []
   },
   "outputs": [
    {
     "name": "stdout",
     "output_type": "stream",
     "text": [
      "['stockNo', 'stockName', 'date', 'price', 'volume']\n"
     ]
    }
   ],
   "source": [
    "cols = df_pre.columns\n",
    "print(cols)"
   ]
  },
  {
   "cell_type": "code",
   "execution_count": null,
   "id": "e133fd9d-4b7d-4722-9cde-9972b95d8ca3",
   "metadata": {},
   "outputs": [],
   "source": []
  }
 ],
 "metadata": {
  "kernelspec": {
   "display_name": "Python 3 (ipykernel)",
   "language": "python",
   "name": "python3"
  },
  "language_info": {
   "codemirror_mode": {
    "name": "ipython",
    "version": 3
   },
   "file_extension": ".py",
   "mimetype": "text/x-python",
   "name": "python",
   "nbconvert_exporter": "python",
   "pygments_lexer": "ipython3",
   "version": "3.9.7"
  }
 },
 "nbformat": 4,
 "nbformat_minor": 5
}
