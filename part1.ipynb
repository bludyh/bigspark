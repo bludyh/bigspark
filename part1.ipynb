{
 "cells": [
  {
   "cell_type": "code",
   "execution_count": 5,
   "id": "ef78f63f-9565-477c-96f0-7e6833736688",
   "metadata": {},
   "outputs": [],
   "source": [
    "from pyspark.sql import SparkSession\n",
    "\n",
    "spark = SparkSession.builder.getOrCreate()"
   ]
  },
  {
   "cell_type": "code",
   "execution_count": 36,
   "id": "477796af-27ea-42b7-8a7b-6d2ee93e3811",
   "metadata": {},
   "outputs": [
    {
     "name": "stdout",
     "output_type": "stream",
     "text": [
      "+-------+--------------------------------------------------+----------+-----+-------+\n",
      "|stockNo|stockName                                         |date      |price|volume |\n",
      "+-------+--------------------------------------------------+----------+-----+-------+\n",
      "|32843  |Nordamerika_USA-NASDAQ_CRA-International-Inc._CRAI|2016-01-01|18.98|50635.0|\n",
      "|32843  |Nordamerika_USA-NASDAQ_CRA-International-Inc._CRAI|2016-01-04|18.52|51616.0|\n",
      "|32843  |Nordamerika_USA-NASDAQ_CRA-International-Inc._CRAI|2016-01-05|19.15|54898.0|\n",
      "|32843  |Nordamerika_USA-NASDAQ_CRA-International-Inc._CRAI|2016-01-06|19.71|41555.0|\n",
      "|32843  |Nordamerika_USA-NASDAQ_CRA-International-Inc._CRAI|2016-01-07|19.17|44430.0|\n",
      "|32843  |Nordamerika_USA-NASDAQ_CRA-International-Inc._CRAI|2016-01-08|18.94|72673.0|\n",
      "|32843  |Nordamerika_USA-NASDAQ_CRA-International-Inc._CRAI|2016-01-11|19.1 |45426.0|\n",
      "|32843  |Nordamerika_USA-NASDAQ_CRA-International-Inc._CRAI|2016-01-12|19.39|61457.0|\n",
      "|32843  |Nordamerika_USA-NASDAQ_CRA-International-Inc._CRAI|2016-01-13|19.27|61805.0|\n",
      "|32843  |Nordamerika_USA-NASDAQ_CRA-International-Inc._CRAI|2016-01-14|19.17|35597.0|\n",
      "|32843  |Nordamerika_USA-NASDAQ_CRA-International-Inc._CRAI|2016-01-15|18.81|69227.0|\n",
      "|32843  |Nordamerika_USA-NASDAQ_CRA-International-Inc._CRAI|2016-01-18|18.81|69227.0|\n",
      "|32843  |Nordamerika_USA-NASDAQ_CRA-International-Inc._CRAI|2016-01-19|18.82|23700.0|\n",
      "|32843  |Nordamerika_USA-NASDAQ_CRA-International-Inc._CRAI|2016-01-20|17.97|41439.0|\n",
      "|32843  |Nordamerika_USA-NASDAQ_CRA-International-Inc._CRAI|2016-01-21|17.82|35240.0|\n",
      "|32843  |Nordamerika_USA-NASDAQ_CRA-International-Inc._CRAI|2016-01-22|18.62|79139.0|\n",
      "|32843  |Nordamerika_USA-NASDAQ_CRA-International-Inc._CRAI|2016-01-25|18.09|89251.0|\n",
      "|32843  |Nordamerika_USA-NASDAQ_CRA-International-Inc._CRAI|2016-01-26|17.62|75300.0|\n",
      "|32843  |Nordamerika_USA-NASDAQ_CRA-International-Inc._CRAI|2016-01-27|17.58|43142.0|\n",
      "|32843  |Nordamerika_USA-NASDAQ_CRA-International-Inc._CRAI|2016-01-28|17.7 |20499.0|\n",
      "+-------+--------------------------------------------------+----------+-----+-------+\n",
      "only showing top 20 rows\n",
      "\n"
     ]
    }
   ],
   "source": [
    "from pyspark.sql.types import StructType, StructField, StringType, DateType, DoubleType, IntegerType\n",
    "from pyspark.sql.functions import split\n",
    "\n",
    "schema = StructType([\n",
    "    StructField(\"stock\", StringType()),\n",
    "    StructField(\"date\", DateType()),\n",
    "    StructField(\"price\", DoubleType()),\n",
    "    StructField(\"volume\", DoubleType())\n",
    "])\n",
    "\n",
    "df = spark.read.csv(\"data/raw/MS1.txt\", schema=schema, dateFormat=\"MM/dd/yyyy\")\n",
    "\n",
    "split_col = split(df[\"stock\"], \"\\.\", 2)\n",
    "\n",
    "df = df.withColumn(\"stockNo\", split_col.getItem(0).cast(IntegerType())).withColumn(\"stockName\", split_col.getItem(1)).select(\"stockNo\", \"stockName\", \"date\", \"price\", \"volume\")\n",
    "\n",
    "df.show(truncate=False)"
   ]
  }
 ],
 "metadata": {
  "kernelspec": {
   "display_name": "Python 3 (ipykernel)",
   "language": "python",
   "name": "python3"
  },
  "language_info": {
   "codemirror_mode": {
    "name": "ipython",
    "version": 3
   },
   "file_extension": ".py",
   "mimetype": "text/x-python",
   "name": "python",
   "nbconvert_exporter": "python",
   "pygments_lexer": "ipython3",
   "version": "3.9.7"
  }
 },
 "nbformat": 4,
 "nbformat_minor": 5
}
